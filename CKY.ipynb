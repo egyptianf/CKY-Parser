{
  "nbformat": 4,
  "nbformat_minor": 0,
  "metadata": {
    "colab": {
      "name": "CKY.ipynb",
      "provenance": [],
      "collapsed_sections": [],
      "include_colab_link": true
    },
    "kernelspec": {
      "name": "python3",
      "display_name": "Python 3"
    }
  },
  "cells": [
    {
      "cell_type": "markdown",
      "metadata": {
        "id": "view-in-github",
        "colab_type": "text"
      },
      "source": [
        "<a href=\"https://colab.research.google.com/github/egyptianf/CKY-Parser/blob/master/CKY.ipynb\" target=\"_parent\"><img src=\"https://colab.research.google.com/assets/colab-badge.svg\" alt=\"Open In Colab\"/></a>"
      ]
    },
    {
      "cell_type": "code",
      "metadata": {
        "id": "ril6IqoAlWWf",
        "colab_type": "code",
        "colab": {}
      },
      "source": [
        "## CYK Parser Implementation"
      ],
      "execution_count": null,
      "outputs": []
    },
    {
      "cell_type": "code",
      "metadata": {
        "id": "pvS2jpaEXdSX",
        "colab_type": "code",
        "colab": {}
      },
      "source": [
        "sentence = \"aaabbb\"\n",
        "grammar = {'S': ['AB', 'XB'],\n",
        "         'T': ['AB', 'XB'],\n",
        "         'X': ['AT'],\n",
        "         'A': ['a'],\n",
        "         'B': ['b']\n",
        "         }"
      ],
      "execution_count": null,
      "outputs": []
    },
    {
      "cell_type": "code",
      "metadata": {
        "id": "clXd4vf1XspI",
        "colab_type": "code",
        "colab": {}
      },
      "source": [
        "def GET_RHS( RHS , grammar):\n",
        "  RHS_list = []\n",
        "  for key , values in grammar.items():\n",
        "    for value in values :\n",
        "      if value == RHS :\n",
        "        RHS_list.append(key)\n",
        "  return RHS_list\n",
        "def initialize_daigonal(grid , dimension , sentence , grammar ):\n",
        "  for i in range( 1 , dimension ):\n",
        "    grid[i-1][i] = GET_RHS(sentence[i-1] , grammar)\n",
        "  return grid\n",
        "def create_grid(dimension):\n",
        "    grid=[]\n",
        "    for i in range(0,dimension):\n",
        "      row = [None]*dimension\n",
        "      grid.append( row ) \n",
        "    return grid\n",
        "\n",
        "def resolve_binary(cell1, cell2, grammar):\n",
        "  nonterminals = []\n",
        "  for o in cell1 :\n",
        "    for l in cell2 :\n",
        "        search = o + l\n",
        "        Y =  GET_RHS(search , grammar ) \n",
        "        for P in Y :\n",
        "            nonterminals.append(P)\n",
        "  return nonterminals\n",
        "\n",
        "\n",
        "def parse_cky(sentence, grammar):\n",
        "  dimension = len(sentence)+1\n",
        "  grid = create_grid(dimension)\n",
        "  grid = initialize_daigonal( grid , dimension  ,  sentence  , grammar )\n",
        "  for j in range( 2 ,   dimension ):\n",
        "    for i in range(j - 2 , -1  , -1 ):\n",
        "        grid[i][j] = [] \n",
        "        for k in range( i + 1 , j  ):\n",
        "            if grid[i][k] == None or grid[k][j] ==  None:\n",
        "                continue \n",
        "            # for o in grid[i][k] :\n",
        "            #     for l in grid[k][j] :\n",
        "            #         search = o + l\n",
        "            #         Y =  GET_RHS(search , grammar ) \n",
        "            #         for P in Y :\n",
        "            #             grid[i][j].append(P)\n",
        "\n",
        "\n",
        "            reduced_nonterminals = resolve_binary(grid[i][k], grid[k][j], grammar)\n",
        "            [grid[i][j].append(non)for non in reduced_nonterminals]\n",
        "  return grid\n",
        "\n",
        "def valid(sentence, grammar):\n",
        "  grid = parse_cky(sentence, grammar)\n",
        "  return True if 'S' in grid[0][len(sentence)] else False"
      ],
      "execution_count": null,
      "outputs": []
    },
    {
      "cell_type": "code",
      "metadata": {
        "id": "pJb0qVvobVvT",
        "colab_type": "code",
        "colab": {
          "base_uri": "https://localhost:8080/",
          "height": 139
        },
        "outputId": "76e6b8c4-4067-4325-c544-e2faf32bfa76"
      },
      "source": [
        "grid = parse_cky(sentence, grammar)\n",
        "display(grid)"
      ],
      "execution_count": null,
      "outputs": [
        {
          "output_type": "display_data",
          "data": {
            "text/plain": [
              "[[None, ['A'], [], [], [], ['X'], ['S', 'T']],\n",
              " [None, None, ['A'], [], ['X'], ['S', 'T'], []],\n",
              " [None, None, None, ['A'], ['S', 'T'], [], []],\n",
              " [None, None, None, None, ['B'], [], []],\n",
              " [None, None, None, None, None, ['B'], []],\n",
              " [None, None, None, None, None, None, ['B']],\n",
              " [None, None, None, None, None, None, None]]"
            ]
          },
          "metadata": {
            "tags": []
          }
        }
      ]
    },
    {
      "cell_type": "code",
      "metadata": {
        "id": "gPSWddfPn_jH",
        "colab_type": "code",
        "colab": {
          "base_uri": "https://localhost:8080/",
          "height": 34
        },
        "outputId": "ba40ca2c-31ba-4b44-a638-7c85a75340fd"
      },
      "source": [
        "print(valid('abab', grammar))"
      ],
      "execution_count": null,
      "outputs": [
        {
          "output_type": "stream",
          "text": [
            "False\n"
          ],
          "name": "stdout"
        }
      ]
    },
    {
      "cell_type": "code",
      "metadata": {
        "id": "V2Os1AZjfNR4",
        "colab_type": "code",
        "colab": {}
      },
      "source": [
        ""
      ],
      "execution_count": null,
      "outputs": []
    }
  ]
}